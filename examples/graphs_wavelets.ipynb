{
 "nbformat":4,
 "nbformat_minor":5,
 "metadata":{},
 "cells":[{"cell_type":"markdown","metadata":{},"source":["# Placeholder notebook"]}]
}
